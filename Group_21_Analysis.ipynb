{
 "cells": [
  {
   "cell_type": "markdown",
   "metadata": {
    "id": "YOqRjpWjoLNp"
   },
   "source": [
    "# Load Data\n",
    "Removed the dataset information and URL because they contained personal information, including my personal email"
   ]
  },
  {
   "cell_type": "code",
   "execution_count": null,
   "metadata": {
    "id": "6nj2H1cVmytA"
   },
   "outputs": [],
   "source": [
    "import numpy as np\n",
    "import pandas as pd\n",
    "import gdown"
   ]
  },
  {
   "cell_type": "code",
   "execution_count": null,
   "metadata": {
    "colab": {
     "base_uri": "https://localhost:8080/"
    },
    "id": "r_hM3BFznaiM",
    "outputId": "e17fc7c5-3378-4ebd-bad0-3ecd65c98bf3"
   },
   "outputs": [
    {
     "name": "stderr",
     "output_type": "stream",
     "text": [
      "Downloading...\n",
      "From: https://drive.google.com/uc?export=download&id=1fkYLPRgzTHvPzOjJEmAVUoBNp_BaNDCn\n",
      "To: /content/control_cleaned.csv\n",
      "100%|██████████| 5.64k/5.64k [00:00<00:00, 2.28MB/s]\n"
     ]
    }
   ],
   "source": [
    "url = f\"\"\n",
    "output = \"control_cleaned.csv\"\n",
    "gdown.download(url, output, quiet=False)\n",
    "control = pd.read_csv(output)"
   ]
  },
  {
   "cell_type": "code",
   "execution_count": null,
   "metadata": {
    "id": "T01NoXjTwK2S"
   },
   "outputs": [],
   "source": [
    "#create treatment column and set value as 0\n",
    "control['treatment_arm'] = 0"
   ]
  },
  {
   "cell_type": "code",
   "execution_count": null,
   "metadata": {
    "colab": {
     "base_uri": "https://localhost:8080/"
    },
    "id": "pZK0k8p4ngtL",
    "outputId": "01cff10e-52e4-43a0-ddc0-fd10f27c00a9"
   },
   "outputs": [
    {
     "name": "stderr",
     "output_type": "stream",
     "text": [
      "Downloading...\n",
      "From: https://drive.google.com/uc?export=download&id=1kzrOqXBIM3TzeV4duTn3nl0XbKg1SrMw\n",
      "To: /content/treatment1_cleaned.csv\n",
      "100%|██████████| 6.69k/6.69k [00:00<00:00, 14.7MB/s]\n"
     ]
    }
   ],
   "source": [
    "url = f\"\"\n",
    "output = \"treatment1_cleaned.csv\"\n",
    "gdown.download(url, output, quiet=False)\n",
    "treatment_1 = pd.read_csv(output)"
   ]
  },
  {
   "cell_type": "code",
   "execution_count": null,
   "metadata": {
    "id": "wXUKXpVTv_CF"
   },
   "outputs": [],
   "source": [
    "treatment_1['treatment_arm'] = 1"
   ]
  },
  {
   "cell_type": "code",
   "execution_count": null,
   "metadata": {
    "colab": {
     "base_uri": "https://localhost:8080/"
    },
    "id": "koIWKtivniG0",
    "outputId": "daa06b64-5054-45d0-d8f0-df6784e048d7"
   },
   "outputs": [
    {
     "name": "stderr",
     "output_type": "stream",
     "text": [
      "Downloading...\n",
      "From: https://drive.google.com/uc?export=download&id=1RpHehAKf3op-aDugOwsWHsEz_L35B6ks\n",
      "To: /content/treatment2_cleaned.csv\n",
      "100%|██████████| 5.62k/5.62k [00:00<00:00, 9.62MB/s]\n"
     ]
    }
   ],
   "source": [
    "url = f\"\"\n",
    "output = \"treatment2_cleaned.csv\"\n",
    "gdown.download(url, output, quiet=False)\n",
    "treatment_2 = pd.read_csv(output)"
   ]
  },
  {
   "cell_type": "code",
   "execution_count": null,
   "metadata": {
    "id": "wr-HUfvNxBdK"
   },
   "outputs": [],
   "source": [
    "treatment_2['treatment_arm'] = 2"
   ]
  },
  {
   "cell_type": "code",
   "execution_count": null,
   "metadata": {
    "id": "Awwl2J6TR_lk"
   },
   "outputs": [],
   "source": [
    "treatment_2['Choose the drink you’d love to enjoy right now!']=treatment_2['Choose the drink you’d love to enjoy right now! Recommended sugar per day is no more than 40 grams, according to the national guideline.']"
   ]
  },
  {
   "cell_type": "code",
   "execution_count": null,
   "metadata": {
    "id": "VqlCqLSkSp9e"
   },
   "outputs": [],
   "source": [
    "treatment_2 = treatment_2.drop(columns=['Choose the drink you’d love to enjoy right now! Recommended sugar per day is no more than 40 grams, according to the national guideline.'])"
   ]
  },
  {
   "cell_type": "code",
   "execution_count": null,
   "metadata": {
    "id": "ArSALkhhvrWi"
   },
   "outputs": [],
   "source": [
    "#merge control, treatment_1 and treatment_2 to one df\n",
    "stb_df = pd.concat([control, treatment_1, treatment_2])"
   ]
  },
  {
   "cell_type": "code",
   "execution_count": null,
   "metadata": {
    "id": "B58LRZjtTR5y"
   },
   "outputs": [],
   "source": [
    "# prompt: drop unuse stb_df\n",
    "\n",
    "stb_df = stb_df.drop(columns=[\"Choose the size\", \"Choose the size.\", \"Write down your E-mail\", \"Write down your email\"], errors='ignore')"
   ]
  },
  {
   "cell_type": "code",
   "execution_count": null,
   "metadata": {
    "colab": {
     "base_uri": "https://localhost:8080/",
     "height": 491
    },
    "id": "NdLFt3OBTkFa",
    "outputId": "f605103b-903e-4d9e-c370-8ae0e0d18996"
   },
   "outputs": [
    {
     "data": {
      "text/html": [
       "<div>\n",
       "<style scoped>\n",
       "    .dataframe tbody tr th:only-of-type {\n",
       "        vertical-align: middle;\n",
       "    }\n",
       "\n",
       "    .dataframe tbody tr th {\n",
       "        vertical-align: top;\n",
       "    }\n",
       "\n",
       "    .dataframe thead th {\n",
       "        text-align: right;\n",
       "    }\n",
       "</style>\n",
       "<table border=\"1\" class=\"dataframe\">\n",
       "  <thead>\n",
       "    <tr style=\"text-align: right;\">\n",
       "      <th></th>\n",
       "      <th>0</th>\n",
       "    </tr>\n",
       "  </thead>\n",
       "  <tbody>\n",
       "    <tr>\n",
       "      <th>Timestamp</th>\n",
       "      <td>0</td>\n",
       "    </tr>\n",
       "    <tr>\n",
       "      <th>Choose the drink you’d love to enjoy right now!</th>\n",
       "      <td>0</td>\n",
       "    </tr>\n",
       "    <tr>\n",
       "      <th>Gender</th>\n",
       "      <td>0</td>\n",
       "    </tr>\n",
       "    <tr>\n",
       "      <th>Age</th>\n",
       "      <td>0</td>\n",
       "    </tr>\n",
       "    <tr>\n",
       "      <th>Employment Status</th>\n",
       "      <td>0</td>\n",
       "    </tr>\n",
       "    <tr>\n",
       "      <th>Do you know what is the recommended sugar per day?</th>\n",
       "      <td>0</td>\n",
       "    </tr>\n",
       "    <tr>\n",
       "      <th>How many hours do you usually exercise on the day you work out?</th>\n",
       "      <td>0</td>\n",
       "    </tr>\n",
       "    <tr>\n",
       "      <th>How many day do you usually exercise per week?</th>\n",
       "      <td>0</td>\n",
       "    </tr>\n",
       "    <tr>\n",
       "      <th>hours_gym</th>\n",
       "      <td>0</td>\n",
       "    </tr>\n",
       "    <tr>\n",
       "      <th>days_gym</th>\n",
       "      <td>0</td>\n",
       "    </tr>\n",
       "    <tr>\n",
       "      <th>total_gym</th>\n",
       "      <td>0</td>\n",
       "    </tr>\n",
       "    <tr>\n",
       "      <th>sugar_level</th>\n",
       "      <td>5</td>\n",
       "    </tr>\n",
       "    <tr>\n",
       "      <th>treatment_arm</th>\n",
       "      <td>0</td>\n",
       "    </tr>\n",
       "  </tbody>\n",
       "</table>\n",
       "</div><br><label><b>dtype:</b> int64</label>"
      ],
      "text/plain": [
       "Timestamp                                                          0\n",
       "Choose the drink you’d love to enjoy right now!                    0\n",
       "Gender                                                             0\n",
       "Age                                                                0\n",
       "Employment Status                                                  0\n",
       "Do you know what is the recommended sugar per day?                 0\n",
       "How many hours do you usually exercise on the day you work out?    0\n",
       "How many day do you usually exercise per week?                     0\n",
       "hours_gym                                                          0\n",
       "days_gym                                                           0\n",
       "total_gym                                                          0\n",
       "sugar_level                                                        5\n",
       "treatment_arm                                                      0\n",
       "dtype: int64"
      ]
     },
     "execution_count": 16,
     "metadata": {},
     "output_type": "execute_result"
    }
   ],
   "source": [
    "stb_df.isnull().sum()"
   ]
  },
  {
   "cell_type": "code",
   "execution_count": null,
   "metadata": {
    "id": "dKVsUcvOUXhk"
   },
   "outputs": [],
   "source": [
    "# prompt: make all word in \"Choose the drink you’d love to enjoy right now!\" column lower case\n",
    "\n",
    "stb_df['Choose the drink you’d love to enjoy right now!'] = stb_df['Choose the drink you’d love to enjoy right now!'].str.lower()"
   ]
  },
  {
   "cell_type": "code",
   "execution_count": null,
   "metadata": {
    "id": "Rherz3fFRm4_"
   },
   "outputs": [],
   "source": [
    "import pandas as pd\n",
    "\n",
    "# Dictionary mapping drink names to sugar content in grams\n",
    "sugar_content = {\n",
    "    \"brewed coffee\": 0,\n",
    "    \"iced coffee or cold brew\": 0,\n",
    "    \"cold brew\": 0,\n",
    "    \"iced coffee\": 0,\n",
    "    \"ice coffee\": 0,\n",
    "    \"iced coffee \": 0,\n",
    "    \"nitro cold brew\": 0,\n",
    "    \"vanilla cream cold brew\": 14,\n",
    "    \"vanilla sweet creme cold brew\": 14,\n",
    "    \"salted caramel cream cold brew\": 26,\n",
    "    \"salted caramel cream cold brew \": 26,\n",
    "    \"cafe latte\": 18,\n",
    "    \"cappuccino \": 12,\n",
    "    \"cappuccino\": 12,\n",
    "    \"cafe mocha\": 35,\n",
    "    \"brown sugar shaken espresso helado\": 15,\n",
    "    \"brown sugar shaken espresso\": 15,\n",
    "    \"caramelo macchiato frio\": 33,\n",
    "    \"caramel macchiato\": 33,\n",
    "    \"caramel macchiato \": 33,\n",
    "    \"cafe mocha blanco frio\": 46,\n",
    "    \"cafe mocha\": 46,\n",
    "    \"mocha\": 46,\n",
    "    \"caramel ribbon crunch\": 60,\n",
    "    \"caramel ribbon crunch  frappuccino\": 60,\n",
    "    \"mocha cookie crumble\": 55,\n",
    "    \"mocha cookie crumble frappuccino\": 55,\n",
    "    \"caramel\": 54,\n",
    "    \"strawberry creme\": 51,\n",
    "    \"strawberry creme frappuccino\": 51,\n",
    "    'strawberry creme frappuccino ': 51,\n",
    "    \"java chip\": 59,\n",
    "    \"java chip frappuccino\": 59,\n",
    "    \"vanilla bean creme\": 52,\n",
    "    \"vanilla bean creme frappuccino\": 52,\n",
    "    \"vanilla bean creme latte\": 52\n",
    "}\n",
    "\n",
    "# Assuming stb_df has a column named \"drink_name\" containing the drink names\n",
    "stb_df[\"sugar_content\"] = stb_df[\"Choose the drink you’d love to enjoy right now!\"].map(sugar_content)\n"
   ]
  },
  {
   "cell_type": "code",
   "execution_count": null,
   "metadata": {
    "colab": {
     "base_uri": "https://localhost:8080/"
    },
    "id": "VvOzxmxXRvBB",
    "outputId": "8e0a8694-bd85-484c-939c-e384c33ec659"
   },
   "outputs": [
    {
     "name": "stdout",
     "output_type": "stream",
     "text": [
      "Starbucks Drinks with Sugar Content             Timestamp Choose the drink you’d love to enjoy right now!  Gender  \\\n",
      "0  2/25/2025 16:02:29                                      cafe latte  Female   \n",
      "\n",
      "   Age Employment Status Do you know what is the recommended sugar per day?  \\\n",
      "0   24           Student                                           30 grams   \n",
      "\n",
      "  How many hours do you usually exercise on the day you work out?  \\\n",
      "0                                           1-2 hour                \n",
      "\n",
      "  How many day do you usually exercise per week?  hours_gym  days_gym  \\\n",
      "0                                 2 day per week        2.0         2   \n",
      "\n",
      "   total_gym  sugar_level  treatment_arm  sugar_content  \n",
      "0        4.0          1.0              0           18.0  \n"
     ]
    }
   ],
   "source": [
    "# Display the updated DataFrame\n",
    "print(\"Starbucks Drinks with Sugar Content\",stb_df.head(1))"
   ]
  },
  {
   "cell_type": "code",
   "execution_count": null,
   "metadata": {
    "colab": {
     "base_uri": "https://localhost:8080/"
    },
    "id": "pDCj-P78T-su",
    "outputId": "d652a269-4771-4941-f139-a27e8263ade9"
   },
   "outputs": [
    {
     "name": "stdout",
     "output_type": "stream",
     "text": [
      "Timestamp                                                          0\n",
      "Choose the drink you’d love to enjoy right now!                    0\n",
      "Gender                                                             0\n",
      "Age                                                                0\n",
      "Employment Status                                                  0\n",
      "Do you know what is the recommended sugar per day?                 0\n",
      "How many hours do you usually exercise on the day you work out?    0\n",
      "How many day do you usually exercise per week?                     0\n",
      "hours_gym                                                          0\n",
      "days_gym                                                           0\n",
      "total_gym                                                          0\n",
      "sugar_level                                                        5\n",
      "treatment_arm                                                      0\n",
      "sugar_content                                                      3\n",
      "dtype: int64\n"
     ]
    }
   ],
   "source": [
    "# Check for missing values in each column\n",
    "missing_values = stb_df.isnull().sum()\n",
    "print(missing_values)"
   ]
  },
  {
   "cell_type": "code",
   "execution_count": null,
   "metadata": {
    "colab": {
     "base_uri": "https://localhost:8080/"
    },
    "id": "leduTpScXoXf",
    "outputId": "270bc6c5-5209-41de-e73b-52ff400fa310"
   },
   "outputs": [
    {
     "name": "stdout",
     "output_type": "stream",
     "text": [
      "Choose the drink you’d love to enjoy right now! (missing sugar content):\n",
      "   Choose the drink you’d love to enjoy right now!\n",
      "32                                   hot chocolate\n",
      "37                                    frappuccino \n",
      "29                                      pink drink\n"
     ]
    }
   ],
   "source": [
    "# Display rows with missing 'sugar_content' and the specified column\n",
    "missing_sugar_content = stb_df[stb_df['sugar_content'].isnull()]\n",
    "print(\"Choose the drink you’d love to enjoy right now! (missing sugar content):\")\n",
    "print(missing_sugar_content[['Choose the drink you’d love to enjoy right now!']])"
   ]
  },
  {
   "cell_type": "code",
   "execution_count": null,
   "metadata": {
    "colab": {
     "base_uri": "https://localhost:8080/",
     "height": 1000
    },
    "id": "Zd228yyDaV5Z",
    "outputId": "f80bf95b-19bf-4da7-f03f-6a5874377bb5"
   },
   "outputs": [
    {
     "name": "stdout",
     "output_type": "stream",
     "text": [
      "            Timestamp Choose the drink you’d love to enjoy right now!  Gender  \\\n",
      "0  2/25/2025 16:02:29                                      cafe latte  Female   \n",
      "1  2/25/2025 16:46:14                                      cafe latte    Male   \n",
      "2  2/25/2025 17:00:50                                      cafe latte    Male   \n",
      "3  2/25/2025 17:05:19                     brown sugar shaken espresso  Female   \n",
      "4  2/25/2025 17:08:00                   vanilla sweet creme cold brew  Female   \n",
      "\n",
      "   Age     Employment Status  \\\n",
      "0   24               Student   \n",
      "1   27               Student   \n",
      "2   34               Student   \n",
      "3   24  Working Professional   \n",
      "4   22               Student   \n",
      "\n",
      "  Do you know what is the recommended sugar per day?  \\\n",
      "0                                           30 grams   \n",
      "1                                           50 grams   \n",
      "2                                           20 grams   \n",
      "3                                           30 grams   \n",
      "4                                           30 grams   \n",
      "\n",
      "  How many hours do you usually exercise on the day you work out?  \\\n",
      "0                                           1-2 hour                \n",
      "1                                   Less than 1 hour                \n",
      "2                                   Less than 1 hour                \n",
      "3                          I do not work out at all.                \n",
      "4                                           1-2 hour                \n",
      "\n",
      "  How many day do you usually exercise per week?  hours_gym  days_gym  \\\n",
      "0                                 2 day per week        2.0         2   \n",
      "1                                 3 day per week        1.0         3   \n",
      "2                                 3 day per week        1.0         3   \n",
      "3                      I do not work out at all.        0.0         0   \n",
      "4                                 3 day per week        2.0         3   \n",
      "\n",
      "   total_gym  sugar_level  treatment_arm  sugar_content  \n",
      "0        4.0          1.0              0           18.0  \n",
      "1        3.0          1.0              0           18.0  \n",
      "2        3.0          1.0              0           18.0  \n",
      "3        0.0          1.0              0           15.0  \n",
      "4        6.0          1.0              0           14.0  \n"
     ]
    },
    {
     "data": {
      "text/html": [
       "<div>\n",
       "<style scoped>\n",
       "    .dataframe tbody tr th:only-of-type {\n",
       "        vertical-align: middle;\n",
       "    }\n",
       "\n",
       "    .dataframe tbody tr th {\n",
       "        vertical-align: top;\n",
       "    }\n",
       "\n",
       "    .dataframe thead th {\n",
       "        text-align: right;\n",
       "    }\n",
       "</style>\n",
       "<table border=\"1\" class=\"dataframe\">\n",
       "  <thead>\n",
       "    <tr style=\"text-align: right;\">\n",
       "      <th></th>\n",
       "      <th>0</th>\n",
       "    </tr>\n",
       "  </thead>\n",
       "  <tbody>\n",
       "    <tr>\n",
       "      <th>Timestamp</th>\n",
       "      <td>0</td>\n",
       "    </tr>\n",
       "    <tr>\n",
       "      <th>Choose the drink you’d love to enjoy right now!</th>\n",
       "      <td>0</td>\n",
       "    </tr>\n",
       "    <tr>\n",
       "      <th>Gender</th>\n",
       "      <td>0</td>\n",
       "    </tr>\n",
       "    <tr>\n",
       "      <th>Age</th>\n",
       "      <td>0</td>\n",
       "    </tr>\n",
       "    <tr>\n",
       "      <th>Employment Status</th>\n",
       "      <td>0</td>\n",
       "    </tr>\n",
       "    <tr>\n",
       "      <th>Do you know what is the recommended sugar per day?</th>\n",
       "      <td>0</td>\n",
       "    </tr>\n",
       "    <tr>\n",
       "      <th>How many hours do you usually exercise on the day you work out?</th>\n",
       "      <td>0</td>\n",
       "    </tr>\n",
       "    <tr>\n",
       "      <th>How many day do you usually exercise per week?</th>\n",
       "      <td>0</td>\n",
       "    </tr>\n",
       "    <tr>\n",
       "      <th>hours_gym</th>\n",
       "      <td>0</td>\n",
       "    </tr>\n",
       "    <tr>\n",
       "      <th>days_gym</th>\n",
       "      <td>0</td>\n",
       "    </tr>\n",
       "    <tr>\n",
       "      <th>total_gym</th>\n",
       "      <td>0</td>\n",
       "    </tr>\n",
       "    <tr>\n",
       "      <th>sugar_level</th>\n",
       "      <td>0</td>\n",
       "    </tr>\n",
       "    <tr>\n",
       "      <th>treatment_arm</th>\n",
       "      <td>0</td>\n",
       "    </tr>\n",
       "    <tr>\n",
       "      <th>sugar_content</th>\n",
       "      <td>0</td>\n",
       "    </tr>\n",
       "  </tbody>\n",
       "</table>\n",
       "</div><br><label><b>dtype:</b> int64</label>"
      ],
      "text/plain": [
       "Timestamp                                                          0\n",
       "Choose the drink you’d love to enjoy right now!                    0\n",
       "Gender                                                             0\n",
       "Age                                                                0\n",
       "Employment Status                                                  0\n",
       "Do you know what is the recommended sugar per day?                 0\n",
       "How many hours do you usually exercise on the day you work out?    0\n",
       "How many day do you usually exercise per week?                     0\n",
       "hours_gym                                                          0\n",
       "days_gym                                                           0\n",
       "total_gym                                                          0\n",
       "sugar_level                                                        0\n",
       "treatment_arm                                                      0\n",
       "sugar_content                                                      0\n",
       "dtype: int64"
      ]
     },
     "execution_count": 22,
     "metadata": {},
     "output_type": "execute_result"
    }
   ],
   "source": [
    "# prompt: drop column with out value on \"sugar content\"\n",
    "\n",
    "# Drop rows where 'sugar_content' is NaN\n",
    "stb_df = stb_df.dropna(subset=['sugar_content'])\n",
    "stb_df = stb_df.dropna(subset=['sugar_level'])\n",
    "# Display the updated DataFrame\n",
    "print(stb_df.head())\n",
    "\n",
    "# Verify that there are no more missing values in 'sugar_content'\n",
    "missing_values = stb_df.isnull().sum()\n",
    "missing_values\n"
   ]
  },
  {
   "cell_type": "code",
   "execution_count": null,
   "metadata": {
    "colab": {
     "base_uri": "https://localhost:8080/"
    },
    "id": "CACxPJnLam5O",
    "outputId": "35ea3407-7af8-4a64-d290-59adb5eab464"
   },
   "outputs": [
    {
     "name": "stdout",
     "output_type": "stream",
     "text": [
      "Timestamp                                                          0\n",
      "Choose the drink you’d love to enjoy right now!                    0\n",
      "Gender                                                             0\n",
      "Age                                                                0\n",
      "Employment Status                                                  0\n",
      "Do you know what is the recommended sugar per day?                 0\n",
      "How many hours do you usually exercise on the day you work out?    0\n",
      "How many day do you usually exercise per week?                     0\n",
      "hours_gym                                                          0\n",
      "days_gym                                                           0\n",
      "total_gym                                                          0\n",
      "sugar_level                                                        0\n",
      "treatment_arm                                                      0\n",
      "sugar_content                                                      0\n",
      "dtype: int64\n",
      "118\n"
     ]
    }
   ],
   "source": [
    "# Check for missing values in each column\n",
    "missing_values = stb_df.isnull().sum()\n",
    "print(missing_values)\n",
    "#print total amount of role\n",
    "print(len(stb_df))"
   ]
  },
  {
   "cell_type": "markdown",
   "metadata": {
    "id": "mXzWie5JuDPG"
   },
   "source": [
    "# EDA"
   ]
  },
  {
   "cell_type": "code",
   "execution_count": null,
   "metadata": {
    "colab": {
     "base_uri": "https://localhost:8080/",
     "height": 529
    },
    "id": "ROaPkEE0kG7X",
    "outputId": "16084267-f2b7-412f-9fc7-5b55e524289a"
   },
   "outputs": [
    {
     "data": {
      "image/png": "[encoded data removed]",
      "text/plain": [
       "<Figure size 615.611x500 with 1 Axes>"
      ]
     },
     "metadata": {},
     "output_type": "display_data"
    }
   ],
   "source": [
    "import seaborn as sns\n",
    "import matplotlib.pyplot as plt\n",
    "\n",
    "# Plot sugar_content vs. hours_gym, colored by treatment group\n",
    "sns.lmplot(x=\"total_gym\", y=\"sugar_content\", hue=\"treatment_arm\", data=stb_df, ci=None)\n",
    "plt.xlabel(\"Total Hours at Gym per week\")\n",
    "plt.ylabel(\"Sugar Content\")\n",
    "plt.title(\"Interaction Effect: Treatment & Total Gym Hours on Sugar Intake\")\n",
    "plt.show()"
   ]
  },
  {
   "cell_type": "code",
   "execution_count": null,
   "metadata": {
    "colab": {
     "base_uri": "https://localhost:8080/",
     "height": 529
    },
    "id": "F2FuIn64joOW",
    "outputId": "77380a23-92b0-40f1-d9e9-209d927cbdf4"
   },
   "outputs": [
    {
     "data": {
      "image/png": "[encoded data removed]",
      "text/plain": [
       "<Figure size 615.611x500 with 1 Axes>"
      ]
     },
     "metadata": {},
     "output_type": "display_data"
    }
   ],
   "source": [
    "import seaborn as sns\n",
    "import matplotlib.pyplot as plt\n",
    "\n",
    "# Plot sugar_content vs. hours_gym, colored by treatment group\n",
    "sns.lmplot(x=\"hours_gym\", y=\"sugar_content\", hue=\"treatment_arm\", data=stb_df, ci=None)\n",
    "plt.xlabel(\"Hours at Gym\")\n",
    "plt.ylabel(\"Sugar Content\")\n",
    "plt.title(\"Interaction Effect: Treatment & Gym Hours on Sugar Intake\")\n",
    "plt.show()\n"
   ]
  },
  {
   "cell_type": "code",
   "execution_count": null,
   "metadata": {
    "colab": {
     "base_uri": "https://localhost:8080/",
     "height": 529
    },
    "id": "GMrfULAtjzTl",
    "outputId": "1ed8ec7d-a3f9-4b7a-a089-cdda8c224258"
   },
   "outputs": [
    {
     "data": {
      "image/png": "[encoded data removed]",
      "text/plain": [
       "<Figure size 615.611x500 with 1 Axes>"
      ]
     },
     "metadata": {},
     "output_type": "display_data"
    }
   ],
   "source": [
    "import seaborn as sns\n",
    "import matplotlib.pyplot as plt\n",
    "\n",
    "# Plot sugar_content vs. hours_gym, colored by treatment group\n",
    "sns.lmplot(x=\"days_gym\", y=\"sugar_content\", hue=\"treatment_arm\", data=stb_df, ci=None)\n",
    "plt.xlabel(\"Days Gym\")\n",
    "plt.ylabel(\"Sugar Content\")\n",
    "plt.title(\"Interaction Effect: Treatment & Gym Days per week on Sugar Intake\")\n",
    "plt.show()"
   ]
  },
  {
   "cell_type": "code",
   "execution_count": null,
   "metadata": {
    "colab": {
     "base_uri": "https://localhost:8080/",
     "height": 564
    },
    "id": "-kR2nUSzpU3B",
    "outputId": "939e57a6-af8a-4ab0-d4d0-f65fc79e976e"
   },
   "outputs": [
    {
     "data": {
      "image/png": "[encoded data removed]",
      "text/plain": [
       "<Figure size 800x600 with 1 Axes>"
      ]
     },
     "metadata": {},
     "output_type": "display_data"
    }
   ],
   "source": [
    "#Count the Compliance result\n",
    "import matplotlib.pyplot as plt\n",
    "\n",
    "# Count occurrences of \"40 grams\" for each treatment arm\n",
    "count_40_grams = stb_df[stb_df['Do you know what is the recommended sugar per day?'] == \"40 grams\"].groupby('treatment_arm')['Do you know what is the recommended sugar per day?'].count()\n",
    "\n",
    "# Create a bar plot\n",
    "plt.figure(figsize=(8, 6))\n",
    "plt.bar(count_40_grams.index, count_40_grams.values)\n",
    "plt.xlabel(\"Treatment Arm\")\n",
    "plt.ylabel(\"Count of subject answer 40 grams\")\n",
    "plt.title(\"Count of 40 grams Responses per Treatment Arm\")\n",
    "plt.xticks(count_40_grams.index)  # Ensure x-axis ticks match treatment arms\n",
    "plt.show()"
   ]
  },
  {
   "cell_type": "markdown",
   "metadata": {
    "id": "U-TFk5pXod47"
   },
   "source": [
    "# ATE"
   ]
  },
  {
   "cell_type": "code",
   "execution_count": null,
   "metadata": {
    "id": "AdUYC-ita5FC"
   },
   "outputs": [],
   "source": [
    "# Separate data by treatment arm\n",
    "control = stb_df[stb_df['treatment_arm'] == 0]\n",
    "treatment_1 = stb_df[stb_df['treatment_arm'] == 1]\n",
    "treatment_2 = stb_df[stb_df['treatment_arm'] == 2]"
   ]
  },
  {
   "cell_type": "code",
   "execution_count": null,
   "metadata": {
    "colab": {
     "base_uri": "https://localhost:8080/"
    },
    "id": "AwWxF1jlomXX",
    "outputId": "ad37d82b-5dbd-4894-b922-dab2eed61558"
   },
   "outputs": [
    {
     "name": "stdout",
     "output_type": "stream",
     "text": [
      "control 17.62162162162162\n",
      "treatment 1 24.767441860465116\n",
      "treatment 2 14.342105263157896\n"
     ]
    }
   ],
   "source": [
    "control_mean = control['sugar_content'].mean()\n",
    "treat1_mean = treatment_1['sugar_content'].mean()\n",
    "treat2_mean = treatment_2['sugar_content'].mean()\n",
    "print('control', control_mean)\n",
    "print('treatment 1', treat1_mean)\n",
    "print('treatment 2', treat2_mean)"
   ]
  },
  {
   "cell_type": "code",
   "execution_count": null,
   "metadata": {
    "colab": {
     "base_uri": "https://localhost:8080/"
    },
    "id": "5JoUWANgpc3-",
    "outputId": "b609795c-6c9c-4a0a-8b6a-737bf50d6605"
   },
   "outputs": [
    {
     "name": "stdout",
     "output_type": "stream",
     "text": [
      "Treatment 1 ATE 7.145820238843495\n",
      "Treatment 2 ATE -3.2795163584637255\n"
     ]
    }
   ],
   "source": [
    "#calculate ate\n",
    "ate_treat1 = treat1_mean - control_mean\n",
    "print('Treatment 1 ATE', ate_treat1)\n",
    "ate_treat2 = treat2_mean - control_mean\n",
    "print('Treatment 2 ATE', ate_treat2)"
   ]
  },
  {
   "cell_type": "markdown",
   "metadata": {
    "id": "RrIBiRLsryqX"
   },
   "source": [
    "Treatment 2 worked because a negative ATE indicated that the sugar level intake decreased so showing the daily sugar intake worked."
   ]
  },
  {
   "cell_type": "markdown",
   "metadata": {
    "id": "45ZGUCUhN4jV"
   },
   "source": [
    "# CATE"
   ]
  },
  {
   "cell_type": "markdown",
   "metadata": {
    "id": "kbx_38rn21Rc"
   },
   "source": [
    "Gender"
   ]
  },
  {
   "cell_type": "code",
   "execution_count": null,
   "metadata": {
    "colab": {
     "base_uri": "https://localhost:8080/"
    },
    "id": "CsBreF1C4mFX",
    "outputId": "c08375f3-a1f9-4dd5-c849-d7f37e596507"
   },
   "outputs": [
    {
     "name": "stdout",
     "output_type": "stream",
     "text": [
      "control Gender\n",
      "Male      22\n",
      "Female    15\n",
      "Name: count, dtype: int64\n",
      "treatment 1 Gender\n",
      "Female    23\n",
      "Male      20\n",
      "Name: count, dtype: int64\n",
      "treatment 2 Gender\n",
      "Male      29\n",
      "Female     9\n",
      "Name: count, dtype: int64\n"
     ]
    }
   ],
   "source": [
    "print('control', control['Gender'].value_counts())\n",
    "print('treatment 1', treatment_1['Gender'].value_counts())\n",
    "print('treatment 2', treatment_2['Gender'].value_counts())"
   ]
  },
  {
   "cell_type": "code",
   "execution_count": null,
   "metadata": {
    "colab": {
     "base_uri": "https://localhost:8080/"
    },
    "id": "i_NVmhDtN4jW",
    "outputId": "1bea4be3-f0da-4144-888c-0a987d88d782"
   },
   "outputs": [
    {
     "name": "stdout",
     "output_type": "stream",
     "text": [
      "control Gender\n",
      "Female    23.666667\n",
      "Male      13.500000\n",
      "Name: sugar_content, dtype: float64\n",
      "treatment 1 Gender\n",
      "Female    28.391304\n",
      "Male      20.600000\n",
      "Name: sugar_content, dtype: float64\n",
      "treatment 2 Gender\n",
      "Female    18.666667\n",
      "Male      13.000000\n",
      "Name: sugar_content, dtype: float64\n"
     ]
    }
   ],
   "source": [
    "control_gender_mean = control.groupby('Gender')['sugar_content'].mean()\n",
    "treat1_gender_mean = treatment_1.groupby('Gender')['sugar_content'].mean()\n",
    "treat2_gender_mean = treatment_2.groupby('Gender')['sugar_content'].mean()\n",
    "print('control', control_gender_mean)\n",
    "print('treatment 1', treat1_gender_mean)\n",
    "print('treatment 2', treat2_gender_mean)"
   ]
  },
  {
   "cell_type": "code",
   "execution_count": null,
   "metadata": {
    "colab": {
     "base_uri": "https://localhost:8080/"
    },
    "id": "4FUK_AUQ2oH4",
    "outputId": "d3010d89-b09a-4e77-bd31-83e1fb9aa8b5"
   },
   "outputs": [
    {
     "name": "stdout",
     "output_type": "stream",
     "text": [
      "Treatment 1 ATE 4.724637681159418\n",
      "Treatment 2 ATE -5.0\n",
      "Treatment 1 ATE 7.100000000000001\n",
      "Treatment 2 ATE -0.5\n"
     ]
    }
   ],
   "source": [
    "#ATE\n",
    "ate_f_treat1 = treat1_gender_mean['Female'] - control_gender_mean['Female']\n",
    "print('Treatment 1 ATE', ate_f_treat1)\n",
    "ate_f_treat2 = treat2_gender_mean['Female'] - control_gender_mean['Female']\n",
    "print('Treatment 2 ATE', ate_f_treat2)\n",
    "ate_m_treat1 = treat1_gender_mean['Male'] - control_gender_mean['Male']\n",
    "print('Treatment 1 ATE', ate_m_treat1)\n",
    "ate_m_treat2 = treat2_gender_mean['Male'] - control_gender_mean['Male']\n",
    "print('Treatment 2 ATE', ate_m_treat2)"
   ]
  },
  {
   "cell_type": "markdown",
   "metadata": {
    "id": "ebxbqFnH24Tr"
   },
   "source": [
    "## Occupation"
   ]
  },
  {
   "cell_type": "code",
   "execution_count": null,
   "metadata": {
    "colab": {
     "base_uri": "https://localhost:8080/"
    },
    "id": "ViS2F-ha3oUo",
    "outputId": "f8269465-a6d6-4778-c8c3-d570299bbe68"
   },
   "outputs": [
    {
     "name": "stdout",
     "output_type": "stream",
     "text": [
      "control Employment Status\n",
      "Student                 23\n",
      "Working Professional    14\n",
      "Name: count, dtype: int64\n",
      "treatment 1 Employment Status\n",
      "Student                 29\n",
      "Working Professional    14\n",
      "Name: count, dtype: int64\n",
      "treatment 2 Employment Status\n",
      "Student                 25\n",
      "Working Professional    13\n",
      "Name: count, dtype: int64\n"
     ]
    }
   ],
   "source": [
    "# count Student and Working Professional for Employment Status\n",
    "print('control', control['Employment Status'].value_counts())\n",
    "print('treatment 1', treatment_1['Employment Status'].value_counts())\n",
    "print('treatment 2', treatment_2['Employment Status'].value_counts())"
   ]
  },
  {
   "cell_type": "code",
   "execution_count": null,
   "metadata": {
    "colab": {
     "base_uri": "https://localhost:8080/"
    },
    "id": "MjJlHaLi20iJ",
    "outputId": "f621502a-b0e5-4990-f984-86d4c32471ac"
   },
   "outputs": [
    {
     "name": "stdout",
     "output_type": "stream",
     "text": [
      "control Employment Status\n",
      "Student                 19.043478\n",
      "Working Professional    15.285714\n",
      "Name: sugar_content, dtype: float64\n",
      "treatment 1 Employment Status\n",
      "Student                 28.068966\n",
      "Working Professional    17.928571\n",
      "Name: sugar_content, dtype: float64\n",
      "treatment 2 Employment Status\n",
      "Student                 16.840000\n",
      "Working Professional     9.538462\n",
      "Name: sugar_content, dtype: float64\n"
     ]
    }
   ],
   "source": [
    "control_occ_mean = control.groupby('Employment Status')['sugar_content'].mean()\n",
    "treat1_occ_mean = treatment_1.groupby('Employment Status')['sugar_content'].mean()\n",
    "treat2_occ_mean = treatment_2.groupby('Employment Status')['sugar_content'].mean()\n",
    "print('control', control_occ_mean)\n",
    "print('treatment 1', treat1_occ_mean)\n",
    "print('treatment 2', treat2_occ_mean)"
   ]
  },
  {
   "cell_type": "code",
   "execution_count": null,
   "metadata": {
    "colab": {
     "base_uri": "https://localhost:8080/"
    },
    "id": "A3Pm5RDK3WY9",
    "outputId": "7bd92b4d-73f3-4078-ee4c-7986c393b13f"
   },
   "outputs": [
    {
     "name": "stdout",
     "output_type": "stream",
     "text": [
      "Treatment 1 ATE 9.025487256371814\n",
      "Treatment 2 ATE -2.2034782608695664\n",
      "Treatment 1 ATE 2.6428571428571406\n",
      "Treatment 2 ATE -5.747252747252748\n"
     ]
    }
   ],
   "source": [
    "ate_s_t1 = treat1_occ_mean['Student'] - control_occ_mean['Student']\n",
    "print('Treatment 1 ATE', ate_s_t1)\n",
    "ate_s_t2 = treat2_occ_mean['Student'] - control_occ_mean['Student']\n",
    "print('Treatment 2 ATE', ate_s_t2)\n",
    "ate_e_t1 = treat1_occ_mean['Working Professional'] - control_occ_mean['Working Professional']\n",
    "print('Treatment 1 ATE', ate_e_t1)\n",
    "ate_e_t2 = treat2_occ_mean['Working Professional'] - control_occ_mean['Working Professional']\n",
    "print('Treatment 2 ATE', ate_e_t2)"
   ]
  },
  {
   "cell_type": "markdown",
   "metadata": {
    "id": "9rW2GAhbxOlR"
   },
   "source": [
    "# Power Calculation + Cohen'd"
   ]
  },
  {
   "cell_type": "code",
   "execution_count": null,
   "metadata": {
    "colab": {
     "base_uri": "https://localhost:8080/"
    },
    "id": "JXTxkRd3xRaH",
    "outputId": "13bed15c-c8cf-477b-ff08-d3176dbcba36"
   },
   "outputs": [
    {
     "name": "stdout",
     "output_type": "stream",
     "text": [
      "Treatment 1 Cohen's d 10.962156139630265\n",
      "Treatment 2 Cohen's d -5.030992829700595\n"
     ]
    }
   ],
   "source": [
    "#Cohen'd = ATE/SD\n",
    "cohend_treat1 = ate_treat1/control['sugar_level'].std()\n",
    "cohend_treat2 = ate_treat2/control['sugar_level'].std()\n",
    "print('Treatment 1 Cohen\\'s d', cohend_treat1)\n",
    "print('Treatment 2 Cohen\\'s d', cohend_treat2)"
   ]
  },
  {
   "cell_type": "code",
   "execution_count": null,
   "metadata": {
    "colab": {
     "base_uri": "https://localhost:8080/"
    },
    "id": "4JvyqPXU5jE-",
    "outputId": "c2fad987-e05e-41c1-9791-f05965314a08"
   },
   "outputs": [
    {
     "name": "stdout",
     "output_type": "stream",
     "text": [
      "Collecting pingouin\n",
      "  Downloading pingouin-0.5.5-py3-none-any.whl.metadata (19 kB)\n",
      "Requirement already satisfied: matplotlib in /usr/local/lib/python3.11/dist-packages (from pingouin) (3.10.0)\n",
      "Requirement already satisfied: numpy in /usr/local/lib/python3.11/dist-packages (from pingouin) (1.26.4)\n",
      "Requirement already satisfied: pandas>=1.5 in /usr/local/lib/python3.11/dist-packages (from pingouin) (2.2.2)\n",
      "Collecting pandas-flavor (from pingouin)\n",
      "  Downloading pandas_flavor-0.6.0-py3-none-any.whl.metadata (6.3 kB)\n",
      "Requirement already satisfied: scikit-learn>=1.2 in /usr/local/lib/python3.11/dist-packages (from pingouin) (1.6.1)\n",
      "Requirement already satisfied: scipy in /usr/local/lib/python3.11/dist-packages (from pingouin) (1.13.1)\n",
      "Requirement already satisfied: seaborn in /usr/local/lib/python3.11/dist-packages (from pingouin) (0.13.2)\n",
      "Requirement already satisfied: statsmodels in /usr/local/lib/python3.11/dist-packages (from pingouin) (0.14.4)\n",
      "Requirement already satisfied: tabulate in /usr/local/lib/python3.11/dist-packages (from pingouin) (0.9.0)\n",
      "Requirement already satisfied: python-dateutil>=2.8.2 in /usr/local/lib/python3.11/dist-packages (from pandas>=1.5->pingouin) (2.8.2)\n",
      "Requirement already satisfied: pytz>=2020.1 in /usr/local/lib/python3.11/dist-packages (from pandas>=1.5->pingouin) (2025.1)\n",
      "Requirement already satisfied: tzdata>=2022.7 in /usr/local/lib/python3.11/dist-packages (from pandas>=1.5->pingouin) (2025.1)\n",
      "Requirement already satisfied: joblib>=1.2.0 in /usr/local/lib/python3.11/dist-packages (from scikit-learn>=1.2->pingouin) (1.4.2)\n",
      "Requirement already satisfied: threadpoolctl>=3.1.0 in /usr/local/lib/python3.11/dist-packages (from scikit-learn>=1.2->pingouin) (3.5.0)\n",
      "Requirement already satisfied: contourpy>=1.0.1 in /usr/local/lib/python3.11/dist-packages (from matplotlib->pingouin) (1.3.1)\n",
      "Requirement already satisfied: cycler>=0.10 in /usr/local/lib/python3.11/dist-packages (from matplotlib->pingouin) (0.12.1)\n",
      "Requirement already satisfied: fonttools>=4.22.0 in /usr/local/lib/python3.11/dist-packages (from matplotlib->pingouin) (4.56.0)\n",
      "Requirement already satisfied: kiwisolver>=1.3.1 in /usr/local/lib/python3.11/dist-packages (from matplotlib->pingouin) (1.4.8)\n",
      "Requirement already satisfied: packaging>=20.0 in /usr/local/lib/python3.11/dist-packages (from matplotlib->pingouin) (24.2)\n",
      "Requirement already satisfied: pillow>=8 in /usr/local/lib/python3.11/dist-packages (from matplotlib->pingouin) (11.1.0)\n",
      "Requirement already satisfied: pyparsing>=2.3.1 in /usr/local/lib/python3.11/dist-packages (from matplotlib->pingouin) (3.2.1)\n",
      "Requirement already satisfied: xarray in /usr/local/lib/python3.11/dist-packages (from pandas-flavor->pingouin) (2025.1.2)\n",
      "Requirement already satisfied: patsy>=0.5.6 in /usr/local/lib/python3.11/dist-packages (from statsmodels->pingouin) (1.0.1)\n",
      "Requirement already satisfied: six>=1.5 in /usr/local/lib/python3.11/dist-packages (from python-dateutil>=2.8.2->pandas>=1.5->pingouin) (1.17.0)\n",
      "Downloading pingouin-0.5.5-py3-none-any.whl (204 kB)\n",
      "\u001b[2K   \u001b[90m━━━━━━━━━━━━━━━━━━━━━━━━━━━━━━━━━━━━━━━━\u001b[0m \u001b[32m204.4/204.4 kB\u001b[0m \u001b[31m7.5 MB/s\u001b[0m eta \u001b[36m0:00:00\u001b[0m\n",
      "\u001b[?25hDownloading pandas_flavor-0.6.0-py3-none-any.whl (7.2 kB)\n",
      "Installing collected packages: pandas-flavor, pingouin\n",
      "Successfully installed pandas-flavor-0.6.0 pingouin-0.5.5\n"
     ]
    }
   ],
   "source": [
    "!pip install pingouin"
   ]
  },
  {
   "cell_type": "code",
   "execution_count": null,
   "metadata": {
    "id": "GMP74Isv5adI"
   },
   "outputs": [],
   "source": [
    "import pingouin as pg"
   ]
  },
  {
   "cell_type": "code",
   "execution_count": null,
   "metadata": {
    "colab": {
     "base_uri": "https://localhost:8080/"
    },
    "id": "lexWxNDe54hd",
    "outputId": "92d9b89f-dd21-41b7-a2f4-f30a9e057be7"
   },
   "outputs": [
    {
     "data": {
      "text/plain": [
       "37"
      ]
     },
     "execution_count": 39,
     "metadata": {},
     "output_type": "execute_result"
    }
   ],
   "source": [
    "control_size = control.shape[0]\n",
    "control_size"
   ]
  },
  {
   "cell_type": "code",
   "execution_count": null,
   "metadata": {
    "colab": {
     "base_uri": "https://localhost:8080/"
    },
    "id": "2EUqhE_E5n6T",
    "outputId": "909126f7-5495-48aa-d7e9-0039dadcae38"
   },
   "outputs": [
    {
     "name": "stdout",
     "output_type": "stream",
     "text": [
      "Treatment 1 Power 1.0\n",
      "Treatment 2 Power 1.0\n"
     ]
    }
   ],
   "source": [
    "statpower1 = pg.power_ttest(d=cohend_treat1, n=control_size, alpha=0.05, alternative='two-sided')\n",
    "print('Treatment 1 Power', statpower1)\n",
    "statpower2 = pg.power_ttest(d=cohend_treat2, n=control_size, alpha=0.05, alternative='two-sided')\n",
    "print('Treatment 2 Power', statpower2)"
   ]
  },
  {
   "cell_type": "markdown",
   "metadata": {
    "id": "B0Wh3nzUuzk3"
   },
   "source": [
    "# Regression without covariant"
   ]
  },
  {
   "cell_type": "code",
   "execution_count": null,
   "metadata": {
    "id": "QJoe3xqBvbvv"
   },
   "outputs": [],
   "source": [
    "import statsmodels.api as sm\n",
    "import statsmodels.formula.api as smf"
   ]
  },
  {
   "cell_type": "code",
   "execution_count": null,
   "metadata": {
    "colab": {
     "base_uri": "https://localhost:8080/"
    },
    "id": "4gQLZIOmvftj",
    "outputId": "ea26d2f6-27d4-41e2-c544-d673c07435d7"
   },
   "outputs": [
    {
     "name": "stdout",
     "output_type": "stream",
     "text": [
      "Collecting Stargazer\n",
      "  Downloading stargazer-0.0.7-py3-none-any.whl.metadata (6.3 kB)\n",
      "Downloading stargazer-0.0.7-py3-none-any.whl (15 kB)\n",
      "Installing collected packages: Stargazer\n",
      "Successfully installed Stargazer-0.0.7\n"
     ]
    }
   ],
   "source": [
    "!pip install Stargazer"
   ]
  },
  {
   "cell_type": "code",
   "execution_count": null,
   "metadata": {
    "id": "bAaJvKLkvjb1"
   },
   "outputs": [],
   "source": [
    "from stargazer.stargazer import Stargazer"
   ]
  },
  {
   "cell_type": "code",
   "execution_count": null,
   "metadata": {
    "colab": {
     "base_uri": "https://localhost:8080/"
    },
    "id": "IKZwNZ4Zuwvs",
    "outputId": "7eb10472-8208-4280-a5fd-02ad9692eee4"
   },
   "outputs": [
    {
     "name": "stdout",
     "output_type": "stream",
     "text": [
      "                            OLS Regression Results                            \n",
      "==============================================================================\n",
      "Dep. Variable:          sugar_content   R-squared:                       0.004\n",
      "Model:                            OLS   Adj. R-squared:                 -0.005\n",
      "Method:                 Least Squares   F-statistic:                    0.5646\n",
      "Date:                Thu, 06 Mar 2025   Prob (F-statistic):              0.454\n",
      "Time:                        22:38:49   Log-Likelihood:                -527.00\n",
      "No. Observations:                 118   AIC:                             1058.\n",
      "Df Residuals:                     116   BIC:                             1064.\n",
      "Df Model:                           1                                         \n",
      "Covariance Type:                  HC1                                         \n",
      "=================================================================================\n",
      "                    coef    std err          z      P>|z|      [0.025      0.975]\n",
      "---------------------------------------------------------------------------------\n",
      "Intercept        20.8662      2.934      7.113      0.000      15.116      26.616\n",
      "treatment_arm    -1.6824      2.239     -0.751      0.452      -6.071       2.706\n",
      "==============================================================================\n",
      "Omnibus:                       20.932   Durbin-Watson:                   2.001\n",
      "Prob(Omnibus):                  0.000   Jarque-Bera (JB):               15.443\n",
      "Skew:                           0.769   Prob(JB):                     0.000443\n",
      "Kurtosis:                       2.120   Cond. No.                         2.99\n",
      "==============================================================================\n",
      "\n",
      "Notes:\n",
      "[1] Standard Errors are heteroscedasticity robust (HC1)\n"
     ]
    }
   ],
   "source": [
    "#fit the regrssion on treatment\n",
    "from sklearn.linear_model import LinearRegression\n",
    "reg = smf.ols('sugar_content ~ treatment_arm', data=stb_df).fit(cov_type='HC1')\n",
    "print(reg.summary())"
   ]
  },
  {
   "cell_type": "code",
   "execution_count": null,
   "metadata": {
    "id": "3yObVVCzzJBW"
   },
   "outputs": [],
   "source": [
    "stb_df['treatment_0'] = (stb_df['treatment_arm'] == 0).astype(int)\n",
    "stb_df['treatment_1'] = (stb_df['treatment_arm'] == 1).astype(int)\n",
    "stb_df['treatment_2'] = (stb_df['treatment_arm'] == 2).astype(int)"
   ]
  },
  {
   "cell_type": "code",
   "execution_count": null,
   "metadata": {
    "colab": {
     "base_uri": "https://localhost:8080/"
    },
    "id": "kPoNpjih24A-",
    "outputId": "5b2ae2e8-af12-4f4a-fd96-529e02cf0951"
   },
   "outputs": [
    {
     "name": "stdout",
     "output_type": "stream",
     "text": [
      "                            OLS Regression Results                            \n",
      "==============================================================================\n",
      "Dep. Variable:          sugar_content   R-squared:                       0.004\n",
      "Model:                            OLS   Adj. R-squared:                 -0.005\n",
      "Method:                 Least Squares   F-statistic:                    0.5646\n",
      "Date:                Thu, 06 Mar 2025   Prob (F-statistic):              0.454\n",
      "Time:                        22:38:49   Log-Likelihood:                -527.00\n",
      "No. Observations:                 118   AIC:                             1058.\n",
      "Df Residuals:                     116   BIC:                             1064.\n",
      "Df Model:                           1                                         \n",
      "Covariance Type:                  HC1                                         \n",
      "=================================================================================\n",
      "                    coef    std err          z      P>|z|      [0.025      0.975]\n",
      "---------------------------------------------------------------------------------\n",
      "Intercept        20.8662      2.934      7.113      0.000      15.116      26.616\n",
      "treatment_arm    -1.6824      2.239     -0.751      0.452      -6.071       2.706\n",
      "==============================================================================\n",
      "Omnibus:                       20.932   Durbin-Watson:                   2.001\n",
      "Prob(Omnibus):                  0.000   Jarque-Bera (JB):               15.443\n",
      "Skew:                           0.769   Prob(JB):                     0.000443\n",
      "Kurtosis:                       2.120   Cond. No.                         2.99\n",
      "==============================================================================\n",
      "\n",
      "Notes:\n",
      "[1] Standard Errors are heteroscedasticity robust (HC1)\n"
     ]
    }
   ],
   "source": [
    "#fit the regrssion on treatment\n",
    "from sklearn.linear_model import LinearRegression\n",
    "reg = smf.ols('sugar_content ~ treatment_arm', data=stb_df).fit(cov_type='HC1')\n",
    "print(reg.summary())\n",
    "\n",
    "#Create treatment arms\n",
    "stb_df['treatment_0'] = (stb_df['treatment_arm'] == 0).astype(int)\n",
    "stb_df['treatment_1'] = (stb_df['treatment_arm'] == 1).astype(int)\n",
    "stb_df['treatment_2'] = (stb_df['treatment_arm'] == 2).astype(int)\n",
    "\n",
    "#regress the model using variables\n",
    "reg_treatment_1 = smf.ols('sugar_content ~ treatment_1', data=stb_df).fit(cov_type='HC1')\n",
    "reg_treatment_2 = smf.ols('sugar_content ~ treatment_2', data=stb_df).fit(cov_type='HC1')"
   ]
  },
  {
   "cell_type": "code",
   "execution_count": null,
   "metadata": {
    "colab": {
     "base_uri": "https://localhost:8080/",
     "height": 398
    },
    "id": "y8HFU24MyZdQ",
    "outputId": "44d0b3f4-c74e-42b5-d80f-3f3754b9799b"
   },
   "outputs": [
    {
     "data": {
      "text/html": [
       "<table style=\"text-align:center\"><tr><td colspan=\"4\" style=\"border-bottom: 1px solid black\"></td></tr>\n",
       "<tr><td style=\"text-align:left\"></td><td colspan=\"3\"><em>Dependent variable: sugar_content</em></td></tr><tr><td style=\"text-align:left\"></td><tr><td style=\"text-align:left\"></td><td>(1)</td><td>(2)</td><td>(3)</td></tr>\n",
       "<tr><td colspan=\"4\" style=\"border-bottom: 1px solid black\"></td></tr>\n",
       "\n",
       "<tr><td style=\"text-align:left\">Intercept</td><td>15.960<sup>***</sup></td><td>21.462<sup>***</sup></td><td>20.866<sup>***</sup></td></tr>\n",
       "<tr><td style=\"text-align:left\"></td><td>(2.217)</td><td>(2.419)</td><td>(2.934)</td></tr>\n",
       "<tr><td style=\"text-align:left\">treatment_1</td><td>8.807<sup>**</sup></td><td></td><td></td></tr>\n",
       "<tr><td style=\"text-align:left\"></td><td>(4.206)</td><td></td><td></td></tr>\n",
       "<tr><td style=\"text-align:left\">treatment_2</td><td></td><td>-7.120<sup>*</sup></td><td></td></tr>\n",
       "<tr><td style=\"text-align:left\"></td><td></td><td>(3.999)</td><td></td></tr>\n",
       "<tr><td style=\"text-align:left\">treatment_arm</td><td></td><td></td><td>-1.682<sup></sup></td></tr>\n",
       "<tr><td style=\"text-align:left\"></td><td></td><td></td><td>(2.239)</td></tr>\n",
       "\n",
       "<td colspan=\"4\" style=\"border-bottom: 1px solid black\"></td></tr>\n",
       "<tr><td style=\"text-align: left\">Observations</td><td>118</td><td>118</td><td>118</td></tr><tr><td style=\"text-align: left\">R<sup>2</sup></td><td>0.040</td><td>0.025</td><td>0.004</td></tr><tr><td style=\"text-align: left\">Adjusted R<sup>2</sup></td><td>0.032</td><td>0.016</td><td>-0.005</td></tr><tr><td style=\"text-align: left\">Residual Std. Error</td><td>20.845 (df=116)</td><td>21.012 (df=116)</td><td>21.236 (df=116)</td></tr><tr><td style=\"text-align: left\">F Statistic</td><td>4.384<sup>**</sup> (df=1; 116)</td><td>3.170<sup>*</sup> (df=1; 116)</td><td>0.565<sup></sup> (df=1; 116)</td></tr>\n",
       "<tr><td colspan=\"4\" style=\"border-bottom: 1px solid black\"></td></tr><tr><td style=\"text-align: left\">Note:</td><td colspan=\"3\" style=\"text-align: right\"><sup>*</sup>p&lt;0.1; <sup>**</sup>p&lt;0.05; <sup>***</sup>p&lt;0.01</td></tr></table>"
      ],
      "text/plain": [
       "<stargazer.stargazer.Stargazer at 0x78b6d428f990>"
      ]
     },
     "execution_count": 47,
     "metadata": {},
     "output_type": "execute_result"
    }
   ],
   "source": [
    "Stargazer([reg_treatment_1,reg_treatment_2,reg])"
   ]
  },
  {
   "cell_type": "code",
   "execution_count": null,
   "metadata": {
    "colab": {
     "base_uri": "https://localhost:8080/"
    },
    "id": "g0JkQ6ephJ8p",
    "outputId": "cf993455-36fc-46dc-9b7d-4802e0a18542"
   },
   "outputs": [
    {
     "name": "stdout",
     "output_type": "stream",
     "text": [
      "                            OLS Regression Results                            \n",
      "==============================================================================\n",
      "Dep. Variable:          sugar_content   R-squared:                       0.055\n",
      "Model:                            OLS   Adj. R-squared:                  0.043\n",
      "Method:                 Least Squares   F-statistic:                     4.705\n",
      "Date:                Thu, 06 Mar 2025   Prob (F-statistic):             0.0331\n",
      "Time:                        22:38:49   Log-Likelihood:                -363.64\n",
      "No. Observations:                  81   AIC:                             731.3\n",
      "Df Residuals:                      79   BIC:                             736.1\n",
      "Df Model:                           1                                         \n",
      "Covariance Type:                  HC1                                         \n",
      "=================================================================================\n",
      "                    coef    std err          z      P>|z|      [0.025      0.975]\n",
      "---------------------------------------------------------------------------------\n",
      "Intercept        14.3421      3.197      4.486      0.000       8.077      20.608\n",
      "treatment_arm    10.4253      4.806      2.169      0.030       1.006      19.845\n",
      "==============================================================================\n",
      "Omnibus:                       17.358   Durbin-Watson:                   2.110\n",
      "Prob(Omnibus):                  0.000   Jarque-Bera (JB):                8.828\n",
      "Skew:                           0.622   Prob(JB):                       0.0121\n",
      "Kurtosis:                       1.967   Cond. No.                         2.70\n",
      "==============================================================================\n",
      "\n",
      "Notes:\n",
      "[1] Standard Errors are heteroscedasticity robust (HC1)\n"
     ]
    },
    {
     "name": "stderr",
     "output_type": "stream",
     "text": [
      "<ipython-input-48-a9008533c533>:2: SettingWithCopyWarning: \n",
      "A value is trying to be set on a copy of a slice from a DataFrame.\n",
      "Try using .loc[row_indexer,col_indexer] = value instead\n",
      "\n",
      "See the caveats in the documentation: https://pandas.pydata.org/pandas-docs/stable/user_guide/indexing.html#returning-a-view-versus-a-copy\n",
      "  data_arms2vs3['treatment_arm'] = (data_arms2vs3['treatment_arm'] == 1).astype(int)\n"
     ]
    }
   ],
   "source": [
    "data_arms2vs3 = stb_df[stb_df['treatment_arm'].isin([1, 2])]\n",
    "data_arms2vs3['treatment_arm'] = (data_arms2vs3['treatment_arm'] == 1).astype(int)\n",
    "\n",
    "reg_treatment_effect_arms2vs3 = smf.ols(\"sugar_content ~ treatment_arm\", data = data_arms2vs3).fit(cov_type='HC1')\n",
    "print(reg_treatment_effect_arms2vs3.summary())"
   ]
  },
  {
   "cell_type": "code",
   "execution_count": null,
   "metadata": {
    "colab": {
     "base_uri": "https://localhost:8080/",
     "height": 308
    },
    "id": "Vi7jU6nEhpQS",
    "outputId": "f683dd33-79ff-4286-fcda-5d0a936ce265"
   },
   "outputs": [
    {
     "data": {
      "text/html": [
       "<table style=\"text-align:center\"><tr><td colspan=\"2\" style=\"border-bottom: 1px solid black\"></td></tr>\n",
       "<tr><td style=\"text-align:left\"></td><td colspan=\"1\"><em>Dependent variable: sugar_content</em></td></tr><tr><td style=\"text-align:left\"></td><tr><td style=\"text-align:left\"></td><td>(1)</td></tr>\n",
       "<tr><td colspan=\"2\" style=\"border-bottom: 1px solid black\"></td></tr>\n",
       "\n",
       "<tr><td style=\"text-align:left\">Intercept</td><td>14.342<sup>***</sup></td></tr>\n",
       "<tr><td style=\"text-align:left\"></td><td>(3.197)</td></tr>\n",
       "<tr><td style=\"text-align:left\">treatment_arm</td><td>10.425<sup>**</sup></td></tr>\n",
       "<tr><td style=\"text-align:left\"></td><td>(4.806)</td></tr>\n",
       "\n",
       "<td colspan=\"2\" style=\"border-bottom: 1px solid black\"></td></tr>\n",
       "<tr><td style=\"text-align: left\">Observations</td><td>81</td></tr><tr><td style=\"text-align: left\">R<sup>2</sup></td><td>0.055</td></tr><tr><td style=\"text-align: left\">Adjusted R<sup>2</sup></td><td>0.043</td></tr><tr><td style=\"text-align: left\">Residual Std. Error</td><td>21.822 (df=79)</td></tr><tr><td style=\"text-align: left\">F Statistic</td><td>4.705<sup>**</sup> (df=1; 79)</td></tr>\n",
       "<tr><td colspan=\"2\" style=\"border-bottom: 1px solid black\"></td></tr><tr><td style=\"text-align: left\">Note:</td><td colspan=\"1\" style=\"text-align: right\"><sup>*</sup>p&lt;0.1; <sup>**</sup>p&lt;0.05; <sup>***</sup>p&lt;0.01</td></tr></table>"
      ],
      "text/plain": [
       "<stargazer.stargazer.Stargazer at 0x78b6d3e16810>"
      ]
     },
     "execution_count": 49,
     "metadata": {},
     "output_type": "execute_result"
    }
   ],
   "source": [
    "Stargazer([reg_treatment_effect_arms2vs3])"
   ]
  },
  {
   "cell_type": "markdown",
   "metadata": {
    "id": "Zl-lupJ4hJnT"
   },
   "source": [
    "# Regress with covarient"
   ]
  },
  {
   "cell_type": "code",
   "execution_count": null,
   "metadata": {
    "colab": {
     "base_uri": "https://localhost:8080/"
    },
    "id": "CehiUftLjLav",
    "outputId": "38e9f841-4b30-49ad-c587-b9b586806605"
   },
   "outputs": [
    {
     "name": "stdout",
     "output_type": "stream",
     "text": [
      "                            OLS Regression Results                            \n",
      "==============================================================================\n",
      "Dep. Variable:          sugar_content   R-squared:                       0.030\n",
      "Model:                            OLS   Adj. R-squared:                 -0.004\n",
      "Method:                 Least Squares   F-statistic:                    0.9255\n",
      "Date:                Thu, 06 Mar 2025   Prob (F-statistic):              0.452\n",
      "Time:                        22:38:49   Log-Likelihood:                -525.41\n",
      "No. Observations:                 118   AIC:                             1061.\n",
      "Df Residuals:                     113   BIC:                             1075.\n",
      "Df Model:                           4                                         \n",
      "Covariance Type:                  HC1                                         \n",
      "===========================================================================================\n",
      "                              coef    std err          z      P>|z|      [0.025      0.975]\n",
      "-------------------------------------------------------------------------------------------\n",
      "Intercept                  27.4579      7.276      3.774      0.000      13.198      41.718\n",
      "treatment_arm              -1.6963      5.264     -0.322      0.747     -12.013       8.620\n",
      "hours_gym                  -5.2461      4.318     -1.215      0.224     -13.709       3.217\n",
      "treatment_arm:hours_gym     0.1274      3.120      0.041      0.967      -5.987       6.242\n",
      "days_gym                    0.3535      1.337      0.264      0.792      -2.267       2.974\n",
      "==============================================================================\n",
      "Omnibus:                       18.725   Durbin-Watson:                   1.995\n",
      "Prob(Omnibus):                  0.000   Jarque-Bera (JB):               14.042\n",
      "Skew:                           0.731   Prob(JB):                     0.000893\n",
      "Kurtosis:                       2.151   Cond. No.                         21.6\n",
      "==============================================================================\n",
      "\n",
      "Notes:\n",
      "[1] Standard Errors are heteroscedasticity robust (HC1)\n"
     ]
    }
   ],
   "source": [
    "reg_treatment_effect_interaction = smf.ols(\n",
    "    \"sugar_content ~ treatment_arm * hours_gym + days_gym\",\n",
    "    data=stb_df\n",
    ").fit(cov_type='HC1')\n",
    "\n",
    "print(reg_treatment_effect_interaction.summary())"
   ]
  },
  {
   "cell_type": "code",
   "execution_count": null,
   "metadata": {
    "id": "5lU0TBHLuwHN"
   },
   "outputs": [],
   "source": [
    "#regress the model using variables + covarient ('hours_gym')\n",
    "reg_treatment_1_h_gym = smf.ols('sugar_content ~ treatment_1 + hours_gym', data=stb_df).fit(cov_type='HC1')\n",
    "reg_treatment_2_h_gym = smf.ols('sugar_content ~ treatment_2 + hours_gym', data=stb_df).fit(cov_type='HC1')"
   ]
  },
  {
   "cell_type": "code",
   "execution_count": null,
   "metadata": {
    "colab": {
     "base_uri": "https://localhost:8080/",
     "height": 442
    },
    "id": "aQwJQMH-u14C",
    "outputId": "1c37a509-1fc3-4b1e-a861-c13e736f943c"
   },
   "outputs": [
    {
     "data": {
      "text/html": [
       "<table style=\"text-align:center\"><tr><td colspan=\"4\" style=\"border-bottom: 1px solid black\"></td></tr>\n",
       "<tr><td style=\"text-align:left\"></td><td colspan=\"3\"><em>Dependent variable: sugar_content</em></td></tr><tr><td style=\"text-align:left\"></td><tr><td style=\"text-align:left\"></td><td>(1)</td><td>(2)</td><td>(3)</td></tr>\n",
       "<tr><td colspan=\"4\" style=\"border-bottom: 1px solid black\"></td></tr>\n",
       "\n",
       "<tr><td style=\"text-align:left\">Intercept</td><td>20.866<sup>***</sup></td><td>22.920<sup>***</sup></td><td>28.080<sup>***</sup></td></tr>\n",
       "<tr><td style=\"text-align:left\"></td><td>(2.934)</td><td>(4.318)</td><td>(4.783)</td></tr>\n",
       "<tr><td style=\"text-align:left\">hours_gym</td><td></td><td>-4.619<sup>*</sup></td><td>-4.525<sup>*</sup></td></tr>\n",
       "<tr><td style=\"text-align:left\"></td><td></td><td>(2.490)</td><td>(2.586)</td></tr>\n",
       "<tr><td style=\"text-align:left\">treatment_1</td><td></td><td>8.616<sup>**</sup></td><td></td></tr>\n",
       "<tr><td style=\"text-align:left\"></td><td></td><td>(4.071)</td><td></td></tr>\n",
       "<tr><td style=\"text-align:left\">treatment_2</td><td></td><td></td><td>-6.713<sup>*</sup></td></tr>\n",
       "<tr><td style=\"text-align:left\"></td><td></td><td></td><td>(4.012)</td></tr>\n",
       "<tr><td style=\"text-align:left\">treatment_arm</td><td>-1.682<sup></sup></td><td></td><td></td></tr>\n",
       "<tr><td style=\"text-align:left\"></td><td>(2.239)</td><td></td><td></td></tr>\n",
       "\n",
       "<td colspan=\"4\" style=\"border-bottom: 1px solid black\"></td></tr>\n",
       "<tr><td style=\"text-align: left\">Observations</td><td>118</td><td>118</td><td>118</td></tr><tr><td style=\"text-align: left\">R<sup>2</sup></td><td>0.004</td><td>0.065</td><td>0.049</td></tr><tr><td style=\"text-align: left\">Adjusted R<sup>2</sup></td><td>-0.005</td><td>0.049</td><td>0.032</td></tr><tr><td style=\"text-align: left\">Residual Std. Error</td><td>21.236 (df=116)</td><td>20.661 (df=115)</td><td>20.843 (df=115)</td></tr><tr><td style=\"text-align: left\">F Statistic</td><td>0.565<sup></sup> (df=1; 116)</td><td>3.691<sup>**</sup> (df=2; 115)</td><td>2.660<sup>*</sup> (df=2; 115)</td></tr>\n",
       "<tr><td colspan=\"4\" style=\"border-bottom: 1px solid black\"></td></tr><tr><td style=\"text-align: left\">Note:</td><td colspan=\"3\" style=\"text-align: right\"><sup>*</sup>p&lt;0.1; <sup>**</sup>p&lt;0.05; <sup>***</sup>p&lt;0.01</td></tr></table>"
      ],
      "text/plain": [
       "<stargazer.stargazer.Stargazer at 0x78b6d3e27810>"
      ]
     },
     "execution_count": 52,
     "metadata": {},
     "output_type": "execute_result"
    }
   ],
   "source": [
    "Stargazer([reg,reg_treatment_1_h_gym,reg_treatment_2_h_gym])"
   ]
  },
  {
   "cell_type": "code",
   "execution_count": null,
   "metadata": {
    "id": "ynrA7Mug4j25"
   },
   "outputs": [],
   "source": [
    "#regress the model using variables + covarient ('hours_gym' +\t'days_gym')\n",
    "reg_treatment_1_hd_gym = smf.ols('sugar_content ~ treatment_1 + hours_gym +\tdays_gym', data=stb_df).fit(cov_type='HC1')\n",
    "reg_treatment_2_hd_gym = smf.ols('sugar_content ~ treatment_2 + hours_gym +\tdays_gym', data=stb_df).fit(cov_type='HC1')"
   ]
  },
  {
   "cell_type": "code",
   "execution_count": null,
   "metadata": {
    "colab": {
     "base_uri": "https://localhost:8080/",
     "height": 487
    },
    "id": "C_K7J2Tr5Oeo",
    "outputId": "c3235e44-6caf-49dc-ab0a-931f36d8d5c6"
   },
   "outputs": [
    {
     "data": {
      "text/html": [
       "<table style=\"text-align:center\"><tr><td colspan=\"4\" style=\"border-bottom: 1px solid black\"></td></tr>\n",
       "<tr><td style=\"text-align:left\"></td><td colspan=\"3\"><em>Dependent variable: sugar_content</em></td></tr><tr><td style=\"text-align:left\"></td><tr><td style=\"text-align:left\"></td><td>(1)</td><td>(2)</td><td>(3)</td></tr>\n",
       "<tr><td colspan=\"4\" style=\"border-bottom: 1px solid black\"></td></tr>\n",
       "\n",
       "<tr><td style=\"text-align:left\">Intercept</td><td>20.866<sup>***</sup></td><td>22.117<sup>***</sup></td><td>27.507<sup>***</sup></td></tr>\n",
       "<tr><td style=\"text-align:left\"></td><td>(2.934)</td><td>(4.628)</td><td>(5.023)</td></tr>\n",
       "<tr><td style=\"text-align:left\">days_gym</td><td></td><td>0.627<sup></sup></td><td>0.546<sup></sup></td></tr>\n",
       "<tr><td style=\"text-align:left\"></td><td></td><td>(1.336)</td><td>(1.325)</td></tr>\n",
       "<tr><td style=\"text-align:left\">hours_gym</td><td></td><td>-5.385<sup>*</sup></td><td>-5.188<sup>*</sup></td></tr>\n",
       "<tr><td style=\"text-align:left\"></td><td></td><td>(2.935)</td><td>(2.909)</td></tr>\n",
       "<tr><td style=\"text-align:left\">treatment_1</td><td></td><td>8.834<sup>**</sup></td><td></td></tr>\n",
       "<tr><td style=\"text-align:left\"></td><td></td><td>(4.138)</td><td></td></tr>\n",
       "<tr><td style=\"text-align:left\">treatment_2</td><td></td><td></td><td>-6.906<sup>*</sup></td></tr>\n",
       "<tr><td style=\"text-align:left\"></td><td></td><td></td><td>(4.034)</td></tr>\n",
       "<tr><td style=\"text-align:left\">treatment_arm</td><td>-1.682<sup></sup></td><td></td><td></td></tr>\n",
       "<tr><td style=\"text-align:left\"></td><td>(2.239)</td><td></td><td></td></tr>\n",
       "\n",
       "<td colspan=\"4\" style=\"border-bottom: 1px solid black\"></td></tr>\n",
       "<tr><td style=\"text-align: left\">Observations</td><td>118</td><td>118</td><td>118</td></tr><tr><td style=\"text-align: left\">R<sup>2</sup></td><td>0.004</td><td>0.067</td><td>0.050</td></tr><tr><td style=\"text-align: left\">Adjusted R<sup>2</sup></td><td>-0.005</td><td>0.043</td><td>0.025</td></tr><tr><td style=\"text-align: left\">Residual Std. Error</td><td>21.236 (df=116)</td><td>20.730 (df=114)</td><td>20.919 (df=114)</td></tr><tr><td style=\"text-align: left\">F Statistic</td><td>0.565<sup></sup> (df=1; 116)</td><td>2.494<sup>*</sup> (df=3; 114)</td><td>1.913<sup></sup> (df=3; 114)</td></tr>\n",
       "<tr><td colspan=\"4\" style=\"border-bottom: 1px solid black\"></td></tr><tr><td style=\"text-align: left\">Note:</td><td colspan=\"3\" style=\"text-align: right\"><sup>*</sup>p&lt;0.1; <sup>**</sup>p&lt;0.05; <sup>***</sup>p&lt;0.01</td></tr></table>"
      ],
      "text/plain": [
       "<stargazer.stargazer.Stargazer at 0x78b6d3e1bed0>"
      ]
     },
     "execution_count": 54,
     "metadata": {},
     "output_type": "execute_result"
    }
   ],
   "source": [
    "Stargazer([reg,reg_treatment_1_hd_gym,reg_treatment_2_hd_gym])"
   ]
  },
  {
   "cell_type": "code",
   "execution_count": null,
   "metadata": {
    "id": "7qAJfzpKdUaM"
   },
   "outputs": [],
   "source": [
    "#regress the model using variables + covarient ('total_gym')\n",
    "reg_treatment_1_tt_gym = smf.ols('sugar_content ~ treatment_1 + total_gym', data=stb_df).fit(cov_type='HC1')\n",
    "reg_treatment_2_tt_gym = smf.ols('sugar_content ~ treatment_2 + total_gym', data=stb_df).fit(cov_type='HC1')"
   ]
  },
  {
   "cell_type": "code",
   "execution_count": null,
   "metadata": {
    "colab": {
     "base_uri": "https://localhost:8080/",
     "height": 442
    },
    "id": "DeEHDzQfAXQI",
    "outputId": "e5e10290-1898-4aaa-aec0-d4471e034314"
   },
   "outputs": [
    {
     "data": {
      "text/html": [
       "<table style=\"text-align:center\"><tr><td colspan=\"4\" style=\"border-bottom: 1px solid black\"></td></tr>\n",
       "<tr><td style=\"text-align:left\"></td><td colspan=\"3\"><em>Dependent variable: sugar_content</em></td></tr><tr><td style=\"text-align:left\"></td><tr><td style=\"text-align:left\"></td><td>(1)</td><td>(2)</td><td>(3)</td></tr>\n",
       "<tr><td colspan=\"4\" style=\"border-bottom: 1px solid black\"></td></tr>\n",
       "\n",
       "<tr><td style=\"text-align:left\">Intercept</td><td>20.866<sup>***</sup></td><td>20.599<sup>***</sup></td><td>25.663<sup>***</sup></td></tr>\n",
       "<tr><td style=\"text-align:left\"></td><td>(2.934)</td><td>(3.532)</td><td>(3.696)</td></tr>\n",
       "<tr><td style=\"text-align:left\">total_gym</td><td></td><td>-0.865<sup></sup></td><td>-0.880<sup></sup></td></tr>\n",
       "<tr><td style=\"text-align:left\"></td><td></td><td>(0.543)</td><td>(0.557)</td></tr>\n",
       "<tr><td style=\"text-align:left\">treatment_1</td><td></td><td>8.134<sup>**</sup></td><td></td></tr>\n",
       "<tr><td style=\"text-align:left\"></td><td></td><td>(4.112)</td><td></td></tr>\n",
       "<tr><td style=\"text-align:left\">treatment_2</td><td></td><td></td><td>-6.297<sup></sup></td></tr>\n",
       "<tr><td style=\"text-align:left\"></td><td></td><td></td><td>(4.025)</td></tr>\n",
       "<tr><td style=\"text-align:left\">treatment_arm</td><td>-1.682<sup></sup></td><td></td><td></td></tr>\n",
       "<tr><td style=\"text-align:left\"></td><td>(2.239)</td><td></td><td></td></tr>\n",
       "\n",
       "<td colspan=\"4\" style=\"border-bottom: 1px solid black\"></td></tr>\n",
       "<tr><td style=\"text-align: left\">Observations</td><td>118</td><td>118</td><td>118</td></tr><tr><td style=\"text-align: left\">R<sup>2</sup></td><td>0.004</td><td>0.061</td><td>0.047</td></tr><tr><td style=\"text-align: left\">Adjusted R<sup>2</sup></td><td>-0.005</td><td>0.045</td><td>0.030</td></tr><tr><td style=\"text-align: left\">Residual Std. Error</td><td>21.236 (df=116)</td><td>20.704 (df=115)</td><td>20.868 (df=115)</td></tr><tr><td style=\"text-align: left\">F Statistic</td><td>0.565<sup></sup> (df=1; 116)</td><td>3.345<sup>**</sup> (df=2; 115)</td><td>2.332<sup></sup> (df=2; 115)</td></tr>\n",
       "<tr><td colspan=\"4\" style=\"border-bottom: 1px solid black\"></td></tr><tr><td style=\"text-align: left\">Note:</td><td colspan=\"3\" style=\"text-align: right\"><sup>*</sup>p&lt;0.1; <sup>**</sup>p&lt;0.05; <sup>***</sup>p&lt;0.01</td></tr></table>"
      ],
      "text/plain": [
       "<stargazer.stargazer.Stargazer at 0x78b6d3a482d0>"
      ]
     },
     "execution_count": 56,
     "metadata": {},
     "output_type": "execute_result"
    }
   ],
   "source": [
    "Stargazer([reg,reg_treatment_1_tt_gym,reg_treatment_2_tt_gym])"
   ]
  }
 ],
 "metadata": {
  "colab": {
   "collapsed_sections": [
    "YOqRjpWjoLNp"
   ],
   "provenance": []
  },
  "kernelspec": {
   "display_name": "Python 3 (ipykernel)",
   "language": "python",
   "name": "python3"
  },
  "language_info": {
   "codemirror_mode": {
    "name": "ipython",
    "version": 3
   },
   "file_extension": ".py",
   "mimetype": "text/x-python",
   "name": "python",
   "nbconvert_exporter": "python",
   "pygments_lexer": "ipython3",
   "version": "3.12.4"
  }
 },
 "nbformat": 4,
 "nbformat_minor": 4
}
